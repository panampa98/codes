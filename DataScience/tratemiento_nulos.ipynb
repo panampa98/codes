{
 "cells": [
  {
   "cell_type": "code",
   "execution_count": null,
   "metadata": {},
   "outputs": [],
   "source": [
    "import pandas as pd\n",
    "import numpy as np\n",
    "\n",
    "data = {\n",
    "    'WorkId': [1, 2, 3, 4, 5, 6, 7, 8],\n",
    "    'Age': [25, np.nan, 28, 40, np.nan, 32, 45, 27],\n",
    "    'Department': ['HR', np.nan, 'HR', 'IT', 'Finance', np.nan, 'Finance', 'HR'],\n",
    "    'Salary': [50000, 60000, np.nan, 80000, np.nan, 100000, 85000, 47000],\n",
    "    'Perf_Score': [85, 90, np.nan, np.nan, 78, 95, 88, 79],\n",
    "    'WorkHours': [8, 9, 7, 8, np.nan, np.nan, 9, 8],\n",
    "    'Bonus': [100, 150, 200, 250, np.nan, 350, 400, 450],\n",
    "    'N_Children': [np.nan, 1, 2, np.nan, 4, np.nan, 3, 1],\n",
    "    'TimeInComp': [36, 24, np.nan, 18, 17, np.nan, 13, np.nan],    # Months\n",
    "}\n",
    "\n",
    "df = pd.DataFrame(data)\n",
    "\n",
    "df"
   ]
  },
  {
   "cell_type": "markdown",
   "metadata": {},
   "source": [
    "## **Tratamiento de nulos - Parte 1**"
   ]
  },
  {
   "cell_type": "code",
   "execution_count": null,
   "metadata": {},
   "outputs": [],
   "source": [
    "# Eliminar filas con valores nulos\n",
    "df_dropna_rows = df.dropna()\n",
    "df_dropna_rows"
   ]
  },
  {
   "cell_type": "code",
   "execution_count": null,
   "metadata": {},
   "outputs": [],
   "source": [
    "# Eliminar filas con valores nulos\n",
    "df_dropna_rows = df.dropna(thresh=6)\n",
    "df_dropna_rows"
   ]
  },
  {
   "cell_type": "code",
   "execution_count": null,
   "metadata": {},
   "outputs": [],
   "source": [
    "# Eliminar columnas con valores nulos\n",
    "df_dropna_cols = df.drop(columns=['N_Children'])\n",
    "df_dropna_cols"
   ]
  },
  {
   "cell_type": "code",
   "execution_count": null,
   "metadata": {},
   "outputs": [],
   "source": [
    "# Rellenar valores nulos con un valor específico\n",
    "df['N_Children'] = df['N_Children'].fillna(0)\n",
    "df"
   ]
  },
  {
   "cell_type": "code",
   "execution_count": null,
   "metadata": {},
   "outputs": [],
   "source": [
    "# Rellenar valores nulos con un valor específico\n",
    "df_fillna_constant = df.fillna({'Age': 0, 'Salary': 50000, 'Department': 'Unknown'})\n",
    "df_fillna_constant"
   ]
  },
  {
   "cell_type": "code",
   "execution_count": null,
   "metadata": {},
   "outputs": [],
   "source": [
    "# Rellenar con mediana\n",
    "df['Age'] = df['Age'].fillna(df['Age'].median())\n",
    "df"
   ]
  },
  {
   "cell_type": "code",
   "execution_count": null,
   "metadata": {},
   "outputs": [],
   "source": [
    "# Rellenar con moda\n",
    "df['Department'] = df['Department'].fillna(df['Department'].mode()[0])\n",
    "df"
   ]
  },
  {
   "cell_type": "markdown",
   "metadata": {},
   "source": [
    "## **Tratamiento de nulos - Parte 2**"
   ]
  },
  {
   "cell_type": "code",
   "execution_count": null,
   "metadata": {},
   "outputs": [],
   "source": [
    "# Rellenar por agrupación\n",
    "df_fill_by_group = df.copy()\n",
    "df_fill_by_group['Salary'] = df_fill_by_group.groupby(\n",
    "    'Department')['Salary'].transform(lambda x: x.fillna(x.mean()))\n",
    "df_fill_by_group"
   ]
  },
  {
   "cell_type": "code",
   "execution_count": null,
   "metadata": {},
   "outputs": [],
   "source": [
    "df.groupby('Department')[['Salary']].mean()"
   ]
  },
  {
   "cell_type": "code",
   "execution_count": null,
   "metadata": {},
   "outputs": [],
   "source": [
    "# Solo filtrar donde Department no es NaN\n",
    "df_fill_by_group = df.copy()\n",
    "mask = df_fill_by_group['Department'].notna()  \n",
    "\n",
    "df_fill_by_group.loc[mask, 'Salary'] = df_fill_by_group.loc[mask].groupby(\n",
    "    'Department')['Salary'].transform(lambda x: x.fillna(x.mean()))\n",
    "df_fill_by_group"
   ]
  },
  {
   "cell_type": "code",
   "execution_count": null,
   "metadata": {},
   "outputs": [],
   "source": [
    "# Interpolación lineal\n",
    "df_interpolated = df.copy()\n",
    "df_interpolated['TimeInComp'] = df['TimeInComp'].interpolate(method='linear')\n",
    "df_interpolated"
   ]
  },
  {
   "cell_type": "code",
   "execution_count": null,
   "metadata": {},
   "outputs": [],
   "source": [
    "from sklearn.impute import KNNImputer\n",
    "\n",
    "# Preparar datos para KNN Imputation\n",
    "knn_df = df.drop(columns=['WorkId', 'Department'])\n",
    "imputer = KNNImputer(n_neighbors=2)\n",
    "df_imputed = pd.DataFrame(imputer.fit_transform(knn_df),\n",
    "                          columns=knn_df.columns)\n",
    "\n",
    "# Reconstruir DataFrame con datos imputados\n",
    "df_knn = df.copy()\n",
    "df_knn[['Salary', 'Bonus']] = df_imputed[['Salary', 'Bonus']]\n",
    "df_knn"
   ]
  },
  {
   "cell_type": "code",
   "execution_count": null,
   "metadata": {},
   "outputs": [],
   "source": [
    "from sklearn.preprocessing import MinMaxScaler\n",
    "from sklearn.neighbors import NearestNeighbors\n",
    "\n",
    "# Aplicar MinMaxScaler\n",
    "scaler = MinMaxScaler()\n",
    "df_to_normalize = df.drop(columns=['WorkId', 'Department'])\n",
    "df_scaled = pd.DataFrame(scaler.fit_transform(df_to_normalize),\n",
    "                         columns=df_to_normalize.columns)\n",
    "\n",
    "# Aplicar KNNImputer\n",
    "imputer = KNNImputer(n_neighbors=2)\n",
    "df_imputed = pd.DataFrame(imputer.fit_transform(df_scaled),\n",
    "                          columns=df_to_normalize.columns)\n",
    "\n",
    "# Desescalar los datos a su escala original\n",
    "df_imputed_rev = pd.DataFrame(scaler.inverse_transform(df_imputed),\n",
    "                              columns=df_to_normalize.columns)\n",
    "df_knn = df.copy()\n",
    "df_knn[['Salary', 'Bonus']] = df_imputed_rev[['Salary', 'Bonus']]\n",
    "df_knn"
   ]
  },
  {
   "cell_type": "code",
   "execution_count": null,
   "metadata": {},
   "outputs": [],
   "source": [
    "# Definir el modelo de vecinos más cercanos\n",
    "knn = NearestNeighbors(n_neighbors=4, metric='euclidean')\n",
    "knn.fit(df_imputed.dropna())  # Ajustamos solo con datos sin nulos\n",
    "\n",
    "# Buscamos los vecinos más cercanos de la fila con índice 3 (antes tenía nulos)\n",
    "fila_index = 4\n",
    "fila = pd.DataFrame([df_imputed.iloc[fila_index].values], columns=df_imputed.columns)\n",
    "\n",
    "# Obtener los índices de los vecinos más cercanos\n",
    "distancias, indices = knn.kneighbors(fila)\n",
    "\n",
    "# Mostrar los vecinos\n",
    "print('Índices de los vecinos más cercanos\\n', indices)\n",
    "print('\\nDistancias a los vecinos\\n', distancias)\n",
    "print('\\nFilas vecinas')\n",
    "df_imputed.iloc[indices[0]]"
   ]
  },
  {
   "cell_type": "code",
   "execution_count": null,
   "metadata": {},
   "outputs": [],
   "source": [
    "df_imputed_rev.iloc[indices[0]]"
   ]
  },
  {
   "cell_type": "markdown",
   "metadata": {},
   "source": [
    "## **Tratamiento de nulos - Parte 3**"
   ]
  }
 ],
 "metadata": {
  "kernelspec": {
   "display_name": ".venv",
   "language": "python",
   "name": "python3"
  },
  "language_info": {
   "codemirror_mode": {
    "name": "ipython",
    "version": 3
   },
   "file_extension": ".py",
   "mimetype": "text/x-python",
   "name": "python",
   "nbconvert_exporter": "python",
   "pygments_lexer": "ipython3",
   "version": "3.10.6"
  }
 },
 "nbformat": 4,
 "nbformat_minor": 2
}
