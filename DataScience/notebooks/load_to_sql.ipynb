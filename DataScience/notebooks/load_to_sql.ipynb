{
 "cells": [
  {
   "cell_type": "code",
   "execution_count": null,
   "metadata": {},
   "outputs": [],
   "source": [
    "import sqlite3\n",
    "import pandas as pd\n",
    "import os\n",
    "\n",
    "class SQLiteLoader:\n",
    "    def __init__(self, db_name: str, table_name: str, file_path: str):\n",
    "        self.db_name = db_name\n",
    "        self.table_name = table_name\n",
    "        self.file_path = file_path\n",
    "\n",
    "        db_folder = 'databases'\n",
    "\n",
    "        # Si la carpeta no existe, la crea\n",
    "        if not os.path.exists(db_folder):\n",
    "            os.makedirs(db_folder)\n",
    "            \n",
    "        self.conn = sqlite3.connect(os.path.join(db_folder, 'data.db'))\n",
    "        self.cursor = self.conn.cursor()\n",
    "\n",
    "    def load_data(self):\n",
    "        '''Carga el dataset a dataframe'''\n",
    "        self.df = pd.read_csv(self.file_path, index_col=0).head(100)\n",
    "        print('Datos cargados desde el CSV.')\n",
    "\n",
    "    def create_table(self):\n",
    "        '''Crea la tabla si no existe, detectando los tipos de datos desde el DataFrame'''\n",
    "        columns_types = []\n",
    "        for col, dtype in self.df.dtypes.items():\n",
    "            if 'int' in str(dtype):\n",
    "                col_type = 'INTEGER'\n",
    "            elif 'float' in str(dtype):\n",
    "                col_type = 'REAL'\n",
    "            else:\n",
    "                col_type = 'TEXT'\n",
    "            columns_types.append(f'{col} {col_type}')\n",
    "        create_query = f\"CREATE TABLE IF NOT EXISTS {self.table_name} ({', '.join(columns_types)})\"\n",
    "        \n",
    "        self.cursor.execute(create_query)\n",
    "        self.conn.commit()\n",
    "        print('Tabla creada o ya existente.')\n",
    "\n",
    "    def insert_data(self):\n",
    "        '''Inserta los datos en la tabla'''\n",
    "        placeholders = ', '.join(['?' for _ in self.df.columns])\n",
    "        insert_query = f'INSERT INTO {self.table_name} VALUES ({placeholders})'\n",
    "        self.cursor.executemany(insert_query, self.df.values.tolist())\n",
    "        self.conn.commit()\n",
    "        print('Datos insertados en la base de datos.')\n",
    "\n",
    "    def close_connection(self):\n",
    "        '''Cierra la conexión con la base de datos'''\n",
    "        self.conn.close()\n",
    "        print('Conexión cerrada.')"
   ]
  },
  {
   "cell_type": "code",
   "execution_count": 3,
   "metadata": {},
   "outputs": [],
   "source": [
    "db_loader = SQLiteLoader('data.db', 'dataset', '../datasets/wine-reviews/winemag-data_first150k.csv')"
   ]
  },
  {
   "cell_type": "code",
   "execution_count": 4,
   "metadata": {},
   "outputs": [
    {
     "name": "stdout",
     "output_type": "stream",
     "text": [
      "Datos cargados desde el CSV.\n"
     ]
    }
   ],
   "source": [
    "db_loader.load_data()"
   ]
  },
  {
   "cell_type": "code",
   "execution_count": 5,
   "metadata": {},
   "outputs": [
    {
     "name": "stdout",
     "output_type": "stream",
     "text": [
      "CREATE TABLE IF NOT EXISTS dataset (country TEXT, description TEXT, designation TEXT, points INTEGER, price REAL, province TEXT, region_1 TEXT, region_2 TEXT, variety TEXT, winery TEXT)\n",
      "Tabla creada o ya existente.\n"
     ]
    }
   ],
   "source": [
    "db_loader.create_table()"
   ]
  },
  {
   "cell_type": "code",
   "execution_count": 6,
   "metadata": {},
   "outputs": [
    {
     "name": "stdout",
     "output_type": "stream",
     "text": [
      "Datos insertados en la base de datos.\n"
     ]
    }
   ],
   "source": [
    "db_loader.insert_data()"
   ]
  },
  {
   "cell_type": "code",
   "execution_count": 7,
   "metadata": {},
   "outputs": [
    {
     "name": "stdout",
     "output_type": "stream",
     "text": [
      "Conexión cerrada.\n"
     ]
    }
   ],
   "source": [
    "db_loader.close_connection()"
   ]
  }
 ],
 "metadata": {
  "kernelspec": {
   "display_name": ".venv",
   "language": "python",
   "name": "python3"
  },
  "language_info": {
   "codemirror_mode": {
    "name": "ipython",
    "version": 3
   },
   "file_extension": ".py",
   "mimetype": "text/x-python",
   "name": "python",
   "nbconvert_exporter": "python",
   "pygments_lexer": "ipython3",
   "version": "3.10.6"
  }
 },
 "nbformat": 4,
 "nbformat_minor": 2
}
