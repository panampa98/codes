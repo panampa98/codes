{
 "cells": [
  {
   "cell_type": "code",
   "execution_count": 1,
   "metadata": {},
   "outputs": [
    {
     "name": "stdout",
     "output_type": "stream",
     "text": [
      "Dataset URL: https://www.kaggle.com/datasets/vivek468/superstore-dataset-final\n",
      "../datasets/superstore-dataset-final/\n"
     ]
    }
   ],
   "source": [
    "from dotenv import load_dotenv\n",
    "import os\n",
    "\n",
    "from kaggle.api.kaggle_api_extended import KaggleApi\n",
    "\n",
    "# Cargar el archivo .env\n",
    "load_dotenv()\n",
    "\n",
    "# Inicializa la API de Kaggle\n",
    "api = KaggleApi()\n",
    "api.authenticate()\n",
    "\n",
    "# Descarga un dataset\n",
    "dataset = 'vivek468/superstore-dataset-final'\n",
    "\n",
    "dataset_folder = dataset.split(sep='/')[-1]\n",
    "\n",
    "output_path = f'../datasets/{dataset_folder}/'  # Carpeta de descarga\n",
    "api.dataset_download_files(dataset, path=output_path, unzip=True)\n",
    "\n",
    "print(output_path)"
   ]
  }
 ],
 "metadata": {
  "kernelspec": {
   "display_name": ".venv",
   "language": "python",
   "name": "python3"
  },
  "language_info": {
   "codemirror_mode": {
    "name": "ipython",
    "version": 3
   },
   "file_extension": ".py",
   "mimetype": "text/x-python",
   "name": "python",
   "nbconvert_exporter": "python",
   "pygments_lexer": "ipython3",
   "version": "3.10.6"
  }
 },
 "nbformat": 4,
 "nbformat_minor": 2
}
